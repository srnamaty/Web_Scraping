{
 "cells": [
  {
   "attachments": {
    "a38520dc-0aea-4655-a0f9-51807d588392.png": {
     "image/png": "[encoded data removed]"
    }
   },
   "cell_type": "markdown",
   "id": "9bfea35c-f654-4801-8397-0a3ad8d95e8f",
   "metadata": {},
   "source": [
    "# Data cleaning for Job Posting Data:\n",
    ":\n",
    "_Author: Matěj Srna_\n",
    "***\n",
    "![image.png](attachment:a38520dc-0aea-4655-a0f9-51807d588392.png)\n",
    " \n",
    "> _**Disclaimer: This Web Scraping is only used for the educational purposes**_"
   ]
  },
  {
   "cell_type": "markdown",
   "id": "25705f52-bc05-48dc-ab33-1f9ece5dbdef",
   "metadata": {},
   "source": [
    "#### Content:\n",
    "1. [Module imports](#Module-imports:)\n",
    "2. [Import of the data from CSV](#Import-of-the-data-from-CSV:)\n",
    "3. [Jobs filtering based on the key words](#Jobs-filtering-based-on-the-key-words:)\n",
    "4. [Deleting all unnecessary job postings from the dataset](#Deleting-all-unnecessary-job-postings-from-the-dataset:)\n",
    "5. [Saving the clean dataset to CSV for further analysis](#Saving-the-clean-dataset-to-CSV-for-further-analysis:)"
   ]
  },
  {
   "cell_type": "markdown",
   "id": "9485fa4e-6052-4ef6-8113-7706938b8591",
   "metadata": {},
   "source": [
    "### Module imports:"
   ]
  },
  {
   "cell_type": "markdown",
   "id": "47ea872f-2c65-40d2-aea8-34efe65cc298",
   "metadata": {},
   "source": [
    "***\n",
    "For this analysis, I had to import several libraries. Mainly I used Pandas to work easaly with Data in DataFrames.\n",
    "\n",
    "Secondly I used the numpy to easily work with data. I used this library to put the date into the list.\n",
    "\n",
    "***"
   ]
  },
  {
   "cell_type": "code",
   "execution_count": 76,
   "id": "18e61a25-389e-49d0-93e1-26898e0f597d",
   "metadata": {},
   "outputs": [],
   "source": [
    "import pandas as pd\n",
    "from datetime import date\n",
    "from time import sleep\n",
    "import glob\n",
    "import numpy as np"
   ]
  },
  {
   "cell_type": "markdown",
   "id": "9ff2a35b-cdd1-4d36-ba44-4d22465ff67a",
   "metadata": {},
   "source": [
    "### Import of the data from CSV:"
   ]
  },
  {
   "cell_type": "markdown",
   "id": "11ebfcbd-30c0-4a23-b5d5-d2bc183c5ff6",
   "metadata": {},
   "source": [
    "***\n",
    "Here is the data loaded to the Pandas library. The cleaned and summarized data was prepared in the WebScraping tool where all the datasets from each day were merged together into one summarized dataset. To have an overview in size of the table I print the shape of the dataframe.\n",
    "***"
   ]
  },
  {
   "cell_type": "code",
   "execution_count": 77,
   "id": "31f71caa-8a46-437b-a7a9-c276593461b0",
   "metadata": {},
   "outputs": [],
   "source": [
    "path =r\"DATA/summary_data.csv\"\n",
    "\n",
    "raw_data = pd.read_csv(path)"
   ]
  },
  {
   "cell_type": "code",
   "execution_count": 78,
   "id": "66817bef-b188-4c7f-ac88-6a195fdf2839",
   "metadata": {},
   "outputs": [
    {
     "name": "stdout",
     "output_type": "stream",
     "text": [
      "Size of the table is: (1146, 8)\n"
     ]
    }
   ],
   "source": [
    "print(f\"Size of the table is: {raw_data.shape}\")"
   ]
  },
  {
   "cell_type": "markdown",
   "id": "fa4454b4-e4ba-4af3-bb9d-47bb1244a7e7",
   "metadata": {},
   "source": [
    "### Jobs filtering based on the key words:"
   ]
  },
  {
   "cell_type": "markdown",
   "id": "8d8d1486-9087-4600-9601-b8971ed60f66",
   "metadata": {},
   "source": [
    "***\n",
    "This part of the code locates the names of the job postings which does not contain the keywords such as \"Data, Analyst, Machine, Business, Science, and AI\". This data will be deleted because it does not contain the relevant data for this analysis.\n",
    "\n",
    "***"
   ]
  },
  {
   "cell_type": "code",
   "execution_count": 79,
   "id": "3ee301fb-7711-44a2-a452-e122e8fc4e8d",
   "metadata": {},
   "outputs": [
    {
     "name": "stdout",
     "output_type": "stream",
     "text": [
      "['Software Development Engineer (Computer Vision)', 'Software Engineer', 'Software Engineer / SW DEVELOPER, new project in Vienna, 12 various positions', 'Software Developer', 'C+ Vývojář / Analytik', 'Application Software Developer in C+/Python (f/m/d)', 'C+ Developer', 'Python Developer', 'Python developer intern', 'HTML Developer', 'Python Engineer', 'Python Developer (m/f/x)', 'SQL Programmer', 'Senior Computer Vision Engineer', 'User Experience Researcher', 'Senior Software Engineer', 'Senior Perception Engineer', 'Senior Engineer, Software Tools (Hybrid)', 'Bioinformatics Software Engineer II', 'Software Engineer, Hardware Integrations', 'Senior System Engineer', 'Software Engineer, Rendering', 'Senior Sensor Fusion Engineer', 'Software Development Engineer III', 'Senior Software Engineer, Algorithms', 'Senior Software Engineer, 3D Vision and SLAM', 'Staff Computer Vision Engineer', 'Image Signal Processing SW Engineer', 'Funkční SW vývojář pro e-mobilitu / motor control', 'Software Engineer, MSK MIND', 'Associate Scientist, Translational Research', 'C+ Software Engineer, Simulation Engine', 'Python Developer (Home based/ Brno)', 'Front-end Developer Angular', 'Programátor jazyka java', 'Programátor C+, Qt', 'Softwarový inženýr', 'Junior Developer - Solution for Circular Economy', 'Software Engineer (Roku) - Video Experiences, Technology']\n"
     ]
    },
    {
     "name": "stderr",
     "output_type": "stream",
     "text": [
      "C:\\Users\\srnam\\AppData\\Local\\Temp\\ipykernel_2732\\312862364.py:1: UserWarning: This pattern is interpreted as a regular expression, and has match groups. To actually get the groups, use str.extract.\n",
      "  to_be_deleted_raw = raw_data.loc[~(raw_data[\"name\"].str.contains(r\"(Data)|(Analyst)|(Machine)|(Business)|(Science)|(AI)\")),\"name\"].unique()\n"
     ]
    }
   ],
   "source": [
    "to_be_deleted_raw = raw_data.loc[~(raw_data[\"name\"].str.contains(r\"(Data)|(Analyst)|(Machine)|(Business)|(Science)|(AI)\")),\"name\"].unique()\n",
    "to_be_deleted_raw = np.ndarray.tolist(to_be_deleted_raw)\n",
    "to_be_deleted = []\n",
    "for n in range(len(to_be_deleted_raw)):\n",
    "    new_value = to_be_deleted_raw[n]\n",
    "    to_be_deleted.append(new_value)\n",
    "\n",
    "print(to_be_deleted)"
   ]
  },
  {
   "cell_type": "markdown",
   "id": "faaeaa9e-1e54-4456-ae43-7feb5afe236b",
   "metadata": {},
   "source": [
    "### Deleting all unnecessary job postings from the dataset:"
   ]
  },
  {
   "cell_type": "markdown",
   "id": "611aa90f-610d-44e4-98cf-f11858a1de98",
   "metadata": {},
   "source": [
    "***\n",
    "Based on the list created above I iterated the whole dataframe to make sure I drop all the unnecessary data. Therefore the dataset is free of all the job postings not related to this analysis. \n",
    "***"
   ]
  },
  {
   "cell_type": "code",
   "execution_count": 80,
   "id": "eac9e725-ba3a-4148-ac14-7666cd7004b2",
   "metadata": {},
   "outputs": [],
   "source": [
    "length = len(to_be_deleted)\n",
    "\n",
    "for n in range(length): \n",
    "    #print(to_be_deleted[n])\n",
    "    raw_data.drop(raw_data.index[raw_data[\"name\"]==to_be_deleted[n]], inplace=True)"
   ]
  },
  {
   "cell_type": "code",
   "execution_count": 81,
   "id": "a5996961-1398-4d10-b02d-5b07ce31de6b",
   "metadata": {},
   "outputs": [
    {
     "data": {
      "text/plain": [
       "(902, 8)"
      ]
     },
     "execution_count": 81,
     "metadata": {},
     "output_type": "execute_result"
    }
   ],
   "source": [
    "raw_data = raw_data.reset_index(drop=True)\n",
    "clean_data = raw_data.drop_duplicates()\n",
    "#print(raw_data)\n",
    "clean_data.shape"
   ]
  },
  {
   "cell_type": "code",
   "execution_count": 82,
   "id": "0960ec5b-fab7-43c2-aa58-75c2ffd887da",
   "metadata": {},
   "outputs": [
    {
     "data": {
      "text/plain": [
       "Data Scientist                                                                          479\n",
       "Big Data Engineer                                                                        34\n",
       "Junior Data Scientist                                                                    34\n",
       "Data Scientist - TikTok Account                                                          30\n",
       "Machine Learning Engineer                                                                23\n",
       "Senior Data Scientist                                                                    21\n",
       "Lead Data Scientist                                                                      20\n",
       "Machine Learning SW Engineer                                                             20\n",
       "Senior Data Scientist for Time Series projects                                           20\n",
       "Data Scientist - Search                                                                  20\n",
       "Embedded SW Engineer - Machine Learning                                                  18\n",
       "Data Scientist, TikTok Creation and Consumption                                          18\n",
       "Data Scientist, Ads Analytics                                                            14\n",
       "Junior Java Software Engineer (Big Data processing and Data Mining)                      13\n",
       "Full Stack Software Engineer (.NET and react.js), Data & Services, Locations Program     13\n",
       "Data Science Engineer - ML Projects                                                      13\n",
       "Software developer in the field of Machine Vision                                        12\n",
       "Data Scientist, Special Projects                                                         11\n",
       "Data Scientist - Hybrid                                                                   8\n",
       "Senior Data analyst/Scientist                                                             7\n",
       "Data Scientist - Relationship discovery                                                   7\n",
       "Data Analyst                                                                              5\n",
       "Data Scientist - Tiktok Ads, Ads Measurement                                              5\n",
       "Data Scientist I                                                                          5\n",
       "Staff Data Scientist                                                                      4\n",
       "Data Scientist II, Analytics                                                              4\n",
       "Sr. Data Scientist                                                                        4\n",
       "AI Engineer                                                                               4\n",
       "Data Scientist- W2 ONLY                                                                   3\n",
       "Senior Data Scientist (Freelance)                                                         3\n",
       "Data Scientist II, Product Analytics                                                      2\n",
       "Data Scientist, Consultant                                                                2\n",
       "Associate, Data Science                                                                   2\n",
       "Senior Data Engineer (Store No8 | Health & Wellness)                                      2\n",
       "Data Science Specialist                                                                   1\n",
       "Data Scientist - Hybrid - Urgent                                                          1\n",
       "NLP Researcher (Data Scientist)                                                           1\n",
       "Data Scientist, Tiktok Ads- Growth Marketing                                              1\n",
       "Multi Asset  Quant/Data Scientist role                                                    1\n",
       "Data Scientist - NIH                                                                      1\n",
       "Data Scientist - Marketing Analytics, Lakeland                                            1\n",
       "Senior Software Engineer, Machine Learning Platform                                       1\n",
       "Data Scientist - Risk Data Mining                                                         1\n",
       "Python, Data Science and Machine Learning                                                 1\n",
       "Data Engineer II                                                                          1\n",
       "Data Crawling Engineer                                                                    1\n",
       "Employee Benefits Underwriter - Data Analyst                                              1\n",
       "Senior Machine Learning Engineer, Recommendation - US Tech Services                       1\n",
       "Cloud Data Engineer | Renewable Energy Trading Firm | Boston                              1\n",
       "Data Scientist (SAS)                                                                      1\n",
       "Sr. Data Engineer                                                                         1\n",
       "Tech Lead, Machine Learning Engineer, Recommendation & Algorithm                          1\n",
       "Business Intelligence Developers                                                          1\n",
       "Senior Data Analyst                                                                       1\n",
       "Data Engineer - Big Data + Digital Marketing                                              1\n",
       "Data Scientist, User Growth - TikTok US - Tech Services                                   1\n",
       "Name: name, dtype: int64"
      ]
     },
     "execution_count": 82,
     "metadata": {},
     "output_type": "execute_result"
    }
   ],
   "source": [
    "clean_data[\"name\"].value_counts()"
   ]
  },
  {
   "cell_type": "code",
   "execution_count": 83,
   "id": "1c52c39f-d9e2-4c8b-ae24-ca3310df6627",
   "metadata": {},
   "outputs": [],
   "source": [
    "#clear fo all data scientist\n",
    "data_science_rem = [\"Machine Learning Engineer\", \"Embedded SW Engineer - Machine Learning\", \"Machine Learning SW Engineer\", \"Data Science Engineer - ML Projects\", \"Data Scientist, TikTok Creation and Consumption\",\n",
    "                    \"Data Scientist - TikTok Account\", \"Data Scientist - Search\", \"Data Scientist, Ads Analytics\", \"Associate, Data Science\", \"Data Scientist - Relationship discovery\", \"Data Scientist (SAS)\",\n",
    "                    \"Data Scientist, Special Projects\", \"Data Scientist - Hybrid\", \"Data Scientist I\", \"Data Scientist - Risk Data Mining\", \"Data Scientist - Hybrid - Urgent\", \"Multi Asset  Quant/Data Scientist role\",\n",
    "                    \"Data Scientist, Tiktok Ads- Growth Marketing\", \"NLP Researcher (Data Scientist)\", \"Data Scientist, Consultant\", \"Data Science Specialist\", \"Data Scientist - Tiktok Ads, Ads Measurement\",\n",
    "                    \"Data Scientist- W2 ONLY\", \"Data Scientist - Marketing Analytics, Lakeland\", \"Data Scientist - NIH\", \"Data Scientist, User Growth - TikTok US - Tech Services\",\n",
    "                   ]\n",
    "\n",
    "for n in data_science_rem:\n",
    "    clean_data.loc[clean_data[\"name\"] == n, \"name\"] = \"Data Scientist\"\n",
    "\n",
    "    \n",
    "#clear for all senior data scinetist    \n",
    "data_science_s_rem = [\"Senior Data analyst/Scientist\", \"Senior Data Scientist for Time Series projects\", \"Senior Data Engineer (Store No8 | Health & Wellness)\", \n",
    "                      \"Senior Machine Learning Engineer, Recommendation - US Tech Services\", \"Senior Software Engineer, Machine Learning Platform\", \"Python, Data Science and Machine Learning\",\n",
    "                      \"Data Scientist II, Analytics\", \"Sr. Data Scientist\", \"Senior Data Scientist (Freelance)\", \"Data Scientist II, Product Analytics\",\n",
    "                     ]\n",
    "\n",
    "for n in data_science_s_rem:\n",
    "    clean_data.loc[clean_data[\"name\"] == n, \"name\"] = \"Senior Data Scientist\"\n",
    "\n",
    "\n",
    "#clear for all lead data scientist\n",
    "data_science_l_rem = [\"Software developer in the field of Machine Vision\", \"Tech Lead, Machine Learning Engineer, Recommendation & Algorithm\"\n",
    "    \n",
    "    \n",
    "                     ]\n",
    "\n",
    "for n in data_science_l_rem:\n",
    "    clean_data.loc[clean_data[\"name\"] == n, \"name\"] = \"Lead Data Scientist\"\n",
    "\n",
    "\n",
    "#clear for all data analyst\n",
    "data_analyst_rem = [\"Employee Benefits Underwriter - Data Analyst\"\n",
    "    \n",
    "                   ]\n",
    "for n in data_analyst_rem:\n",
    "    clean_data.loc[clean_data[\"name\"] == n, \"name\"] = \"Data Analyst\"\n",
    "\n",
    "    \n",
    "#clean for all Big data engineer\n",
    "big_data_rem = [\"Junior Java Software Engineer (Big Data processing and Data Mining)\", \"Full Stack Software Engineer (.NET and react.js), Data & Services, Locations Program\", \n",
    "                \"Data Engineer - Big Data + Digital Marketing\", \"Cloud Data Engineer | Renewable Energy Trading Firm | Boston\", \"Sr. Data Engineer\", \"Data Engineer II\"\n",
    "                    \n",
    "               ]\n",
    "for n in big_data_rem:\n",
    "    clean_data.loc[clean_data[\"name\"] == n, \"name\"] = \"Big Data Engineer\"\n"
   ]
  },
  {
   "cell_type": "code",
   "execution_count": 84,
   "id": "b43ad330-eb2e-4b83-9192-53cf50f7b99a",
   "metadata": {},
   "outputs": [
    {
     "data": {
      "text/plain": [
       "Data Scientist                      688\n",
       "Senior Data Scientist                66\n",
       "Big Data Engineer                    64\n",
       "Junior Data Scientist                34\n",
       "Lead Data Scientist                  33\n",
       "Data Analyst                          6\n",
       "AI Engineer                           4\n",
       "Staff Data Scientist                  4\n",
       "Senior Data Analyst                   1\n",
       "Business Intelligence Developers      1\n",
       "Data Crawling Engineer                1\n",
       "Name: name, dtype: int64"
      ]
     },
     "execution_count": 84,
     "metadata": {},
     "output_type": "execute_result"
    }
   ],
   "source": [
    "clean_data[\"name\"].value_counts()"
   ]
  },
  {
   "cell_type": "code",
   "execution_count": 85,
   "id": "95fb5870-003d-4d7e-a401-eefb9d86b704",
   "metadata": {},
   "outputs": [
    {
     "name": "stdout",
     "output_type": "stream",
     "text": [
      "Size of the table is: (902, 8)\n"
     ]
    }
   ],
   "source": [
    "# additional drop\n",
    "print(f\"Size of the table is: {clean_data.shape}\")"
   ]
  },
  {
   "cell_type": "code",
   "execution_count": 86,
   "id": "58c0ca59-ce42-4bc7-893a-3ddf7a01d99a",
   "metadata": {},
   "outputs": [
    {
     "data": {
      "text/plain": [
       "(902, 8)"
      ]
     },
     "execution_count": 86,
     "metadata": {},
     "output_type": "execute_result"
    }
   ],
   "source": [
    "clean_data = clean_data.drop_duplicates()\n",
    "clean_data.shape"
   ]
  },
  {
   "cell_type": "code",
   "execution_count": 87,
   "id": "267bfa58-4638-408e-b600-dc98216a3c1a",
   "metadata": {},
   "outputs": [
    {
     "data": {
      "text/plain": [
       "LHH                    67\n",
       "TikTok                 58\n",
       "HP                     50\n",
       "NXP Semiconductors     38\n",
       "Merkle DACH            33\n",
       "                       ..\n",
       "Panera Bread            1\n",
       "Tatari                  1\n",
       "ArcSpan                 1\n",
       "Glean                   1\n",
       "MetLife Legal Plans     1\n",
       "Name: company_name, Length: 122, dtype: int64"
      ]
     },
     "execution_count": 87,
     "metadata": {},
     "output_type": "execute_result"
    }
   ],
   "source": [
    "clean_data[\"company_name\"].value_counts()"
   ]
  },
  {
   "cell_type": "code",
   "execution_count": 88,
   "id": "65d57fef-5eba-4677-bf89-c9dbed1566b8",
   "metadata": {},
   "outputs": [],
   "source": [
    "clean_data.loc[clean_data[\"location\"] == \"Praha\", \"location\"] = \"Hlavní město Praha, Česko\"\n",
    "\n",
    "clean_data.loc[clean_data[\"location\"] == \"New York, NY\", \"location\"] = \"New York, United States\"  \n",
    "clean_data.loc[clean_data[\"location\"] == \"New York City Metropolitan Area\", \"location\"] = \"New York, United States\""
   ]
  },
  {
   "cell_type": "code",
   "execution_count": 89,
   "id": "3260c9ce-a6c7-47a5-a841-22f355c3b5b9",
   "metadata": {},
   "outputs": [
    {
     "data": {
      "text/plain": [
       "Hlavní město Praha, Česko           216\n",
       "Brno                                 58\n",
       "Austin, TX                           51\n",
       "New York, United States              43\n",
       "Mountain View, CA                    34\n",
       "                                   ... \n",
       "Cincinnati, OH                        1\n",
       "Cincinnati Metropolitan Area          1\n",
       "Columbus, Ohio Metropolitan Area      1\n",
       "Greater Seattle Area                  1\n",
       "Cleveland, OH                         1\n",
       "Name: location, Length: 72, dtype: int64"
      ]
     },
     "execution_count": 89,
     "metadata": {},
     "output_type": "execute_result"
    }
   ],
   "source": [
    "clean_data[\"location\"].value_counts()"
   ]
  },
  {
   "cell_type": "code",
   "execution_count": 90,
   "id": "04f0592e-faa8-488a-b310-82113505f7b3",
   "metadata": {},
   "outputs": [
    {
     "data": {
      "text/plain": [
       "2022-05-15    66\n",
       "2022-05-16    65\n",
       "2022-05-17    90\n",
       "2022-05-18    78\n",
       "2022-05-19    97\n",
       "2022-05-20    65\n",
       "2022-05-21    79\n",
       "2022-05-22    56\n",
       "2022-05-23    51\n",
       "2022-05-24    95\n",
       "2022-05-25    75\n",
       "2022-05-26    85\n",
       "Name: date, dtype: int64"
      ]
     },
     "execution_count": 90,
     "metadata": {},
     "output_type": "execute_result"
    }
   ],
   "source": [
    "clean_data[\"date\"].value_counts().sort_index()"
   ]
  },
  {
   "cell_type": "markdown",
   "id": "d9c1f1b9-4478-411c-9bab-853cec2255a2",
   "metadata": {},
   "source": [
    "### Saving the clean dataset to CSV for further analysis:"
   ]
  },
  {
   "cell_type": "code",
   "execution_count": 91,
   "id": "a2e3e5f3-b8e1-47bf-a696-495372ffb425",
   "metadata": {},
   "outputs": [],
   "source": [
    "clean_data.to_csv(\"DATA/clean_data.csv\", index=False)"
   ]
  },
  {
   "cell_type": "code",
   "execution_count": null,
   "id": "c79369ce-7a2b-4162-b699-1c8505dfab86",
   "metadata": {},
   "outputs": [],
   "source": []
  },
  {
   "cell_type": "code",
   "execution_count": null,
   "id": "804053a1-3638-4299-a544-83f886b953df",
   "metadata": {},
   "outputs": [],
   "source": []
  }
 ],
 "metadata": {
  "kernelspec": {
   "display_name": "Python 3 (ipykernel)",
   "language": "python",
   "name": "python3"
  },
  "language_info": {
   "codemirror_mode": {
    "name": "ipython",
    "version": 3
   },
   "file_extension": ".py",
   "mimetype": "text/x-python",
   "name": "python",
   "nbconvert_exporter": "python",
   "pygments_lexer": "ipython3",
   "version": "3.9.13"
  }
 },
 "nbformat": 4,
 "nbformat_minor": 5
}
