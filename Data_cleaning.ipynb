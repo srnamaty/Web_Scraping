{
 "cells": [
  {
   "cell_type": "markdown",
   "id": "9bfea35c-f654-4801-8397-0a3ad8d95e8f",
   "metadata": {},
   "source": [
    "### Module imports:"
   ]
  },
  {
   "cell_type": "code",
   "execution_count": 58,
   "id": "18e61a25-389e-49d0-93e1-26898e0f597d",
   "metadata": {},
   "outputs": [],
   "source": [
    "from selenium import webdriver\n",
    "from bs4 import BeautifulSoup\n",
    "import pandas as pd\n",
    "import requests\n",
    "from datetime import date\n",
    "from time import sleep\n",
    "import glob\n",
    "import numpy as np"
   ]
  },
  {
   "cell_type": "markdown",
   "id": "9ff2a35b-cdd1-4d36-ba44-4d22465ff67a",
   "metadata": {},
   "source": [
    "### Import of the data from CSV:"
   ]
  },
  {
   "cell_type": "code",
   "execution_count": 59,
   "id": "31f71caa-8a46-437b-a7a9-c276593461b0",
   "metadata": {},
   "outputs": [],
   "source": [
    "path =r\"DATA/summary_data.csv\"\n",
    "\n",
    "raw_data = pd.read_csv(path)"
   ]
  },
  {
   "cell_type": "code",
   "execution_count": 60,
   "id": "66817bef-b188-4c7f-ac88-6a195fdf2839",
   "metadata": {},
   "outputs": [
    {
     "name": "stdout",
     "output_type": "stream",
     "text": [
      "Size of the table is: (948, 8)\n"
     ]
    }
   ],
   "source": [
    "print(f\"Size of the table is: {raw_data.shape}\")"
   ]
  },
  {
   "cell_type": "markdown",
   "id": "fa4454b4-e4ba-4af3-bb9d-47bb1244a7e7",
   "metadata": {},
   "source": [
    "### Jobs filtering based on the key words:"
   ]
  },
  {
   "cell_type": "code",
   "execution_count": 61,
   "id": "3ee301fb-7711-44a2-a452-e122e8fc4e8d",
   "metadata": {},
   "outputs": [
    {
     "name": "stdout",
     "output_type": "stream",
     "text": [
      "['Software Development Engineer (Computer Vision)', 'Software Engineer', 'Software Engineer / SW DEVELOPER, new project in Vienna, 12 various positions', 'Software Developer', 'C+ Vývojář / Analytik', 'Application Software Developer in C+/Python (f/m/d)', 'C+ Developer', 'Python Developer', 'Python developer intern', 'HTML Developer', 'Python Engineer', 'Python Developer (m/f/x)', 'SQL Programmer', 'Senior Computer Vision Engineer', 'User Experience Researcher', 'Senior Software Engineer', 'Senior Perception Engineer', 'Senior Engineer, Software Tools (Hybrid)', 'Bioinformatics Software Engineer II', 'Software Engineer, Hardware Integrations', 'Senior System Engineer', 'Software Engineer, Rendering', 'Senior Sensor Fusion Engineer', 'Software Development Engineer III', 'Senior Software Engineer, Algorithms', 'Senior Software Engineer, 3D Vision and SLAM', 'Staff Computer Vision Engineer', 'Image Signal Processing SW Engineer', 'Funkční SW vývojář pro e-mobilitu / motor control', 'Software Engineer, MSK MIND', 'Associate Scientist, Translational Research', 'C+ Software Engineer, Simulation Engine', 'Python Developer (Home based/ Brno)', 'Front-end Developer Angular', 'Programátor jazyka java', 'Programátor C+, Qt', 'Softwarový inženýr', 'Junior Developer - Solution for Circular Economy', 'Software Engineer (Roku) - Video Experiences, Technology']\n"
     ]
    },
    {
     "name": "stderr",
     "output_type": "stream",
     "text": [
      "C:\\Users\\srnam\\AppData\\Local\\Temp\\ipykernel_15448\\312862364.py:1: UserWarning: This pattern is interpreted as a regular expression, and has match groups. To actually get the groups, use str.extract.\n",
      "  to_be_deleted_raw = raw_data.loc[~(raw_data[\"name\"].str.contains(r\"(Data)|(Analyst)|(Machine)|(Business)|(Science)|(AI)\")),\"name\"].unique()\n"
     ]
    }
   ],
   "source": [
    "to_be_deleted_raw = raw_data.loc[~(raw_data[\"name\"].str.contains(r\"(Data)|(Analyst)|(Machine)|(Business)|(Science)|(AI)\")),\"name\"].unique()\n",
    "to_be_deleted_raw = np.ndarray.tolist(to_be_deleted_raw)\n",
    "to_be_deleted = []\n",
    "for n in range(len(to_be_deleted_raw)):\n",
    "    new_value = to_be_deleted_raw[n]\n",
    "    to_be_deleted.append(new_value)\n",
    "\n",
    "print(to_be_deleted)"
   ]
  },
  {
   "cell_type": "markdown",
   "id": "faaeaa9e-1e54-4456-ae43-7feb5afe236b",
   "metadata": {},
   "source": [
    "### Deleting all unnecessary job postings from the dataset:"
   ]
  },
  {
   "cell_type": "code",
   "execution_count": 62,
   "id": "eac9e725-ba3a-4148-ac14-7666cd7004b2",
   "metadata": {},
   "outputs": [],
   "source": [
    "length = len(to_be_deleted)\n",
    "\n",
    "for n in range(length): \n",
    "    #print(to_be_deleted[n])\n",
    "    raw_data.drop(raw_data.index[raw_data[\"name\"]==to_be_deleted[n]], inplace=True)"
   ]
  },
  {
   "cell_type": "code",
   "execution_count": 63,
   "id": "a5996961-1398-4d10-b02d-5b07ce31de6b",
   "metadata": {},
   "outputs": [
    {
     "data": {
      "text/plain": [
       "(742, 8)"
      ]
     },
     "execution_count": 63,
     "metadata": {},
     "output_type": "execute_result"
    }
   ],
   "source": [
    "raw_data = raw_data.reset_index(drop=True)\n",
    "clean_data = raw_data.drop_duplicates()\n",
    "#print(raw_data)\n",
    "clean_data.shape"
   ]
  },
  {
   "cell_type": "code",
   "execution_count": 64,
   "id": "0960ec5b-fab7-43c2-aa58-75c2ffd887da",
   "metadata": {},
   "outputs": [
    {
     "data": {
      "text/plain": [
       "Data Scientist                                                                          391\n",
       "Big Data Engineer                                                                        32\n",
       "Junior Data Scientist                                                                    28\n",
       "Data Scientist - TikTok Account                                                          21\n",
       "Machine Learning Engineer                                                                20\n",
       "Data Scientist - Search                                                                  18\n",
       "Senior Data Scientist for Time Series projects                                           17\n",
       "Lead Data Scientist                                                                      17\n",
       "Machine Learning SW Engineer                                                             17\n",
       "Data Scientist, TikTok Creation and Consumption                                          17\n",
       "Senior Data Scientist                                                                    15\n",
       "Embedded SW Engineer - Machine Learning                                                  15\n",
       "Junior Java Software Engineer (Big Data processing and Data Mining)                      12\n",
       "Software developer in the field of Machine Vision                                        12\n",
       "Full Stack Software Engineer (.NET and react.js), Data & Services, Locations Program     12\n",
       "Data Science Engineer - ML Projects                                                      12\n",
       "Data Scientist, Ads Analytics                                                            12\n",
       "Data Scientist, Special Projects                                                         11\n",
       "Data Scientist - Hybrid                                                                   8\n",
       "Senior Data analyst/Scientist                                                             7\n",
       "Data Scientist - Relationship discovery                                                   6\n",
       "Data Scientist I                                                                          5\n",
       "Data Analyst                                                                              5\n",
       "Data Scientist II, Analytics                                                              4\n",
       "Staff Data Scientist                                                                      3\n",
       "Associate, Data Science                                                                   2\n",
       "AI Engineer                                                                               2\n",
       "Senior Data Engineer (Store No8 | Health & Wellness)                                      2\n",
       "Senior Data Analyst                                                                       1\n",
       "NLP Researcher (Data Scientist)                                                           1\n",
       "Data Scientist, Tiktok Ads- Growth Marketing                                              1\n",
       "Multi Asset  Quant/Data Scientist role                                                    1\n",
       "Sr. Data Scientist                                                                        1\n",
       "Data Scientist - Hybrid - Urgent                                                          1\n",
       "Data Scientist - Risk Data Mining                                                         1\n",
       "Data Engineer - Big Data + Digital Marketing                                              1\n",
       "Business Intelligence Developers                                                          1\n",
       "Python, Data Science and Machine Learning                                                 1\n",
       "Data Engineer II                                                                          1\n",
       "Data Crawling Engineer                                                                    1\n",
       "Employee Benefits Underwriter - Data Analyst                                              1\n",
       "Senior Machine Learning Engineer, Recommendation - US Tech Services                       1\n",
       "Cloud Data Engineer | Renewable Energy Trading Firm | Boston                              1\n",
       "Data Scientist (SAS)                                                                      1\n",
       "Senior Software Engineer, Machine Learning Platform                                       1\n",
       "Sr. Data Engineer                                                                         1\n",
       "Tech Lead, Machine Learning Engineer, Recommendation & Algorithm                          1\n",
       "Name: name, dtype: int64"
      ]
     },
     "execution_count": 64,
     "metadata": {},
     "output_type": "execute_result"
    }
   ],
   "source": [
    "clean_data[\"name\"].value_counts()"
   ]
  },
  {
   "cell_type": "code",
   "execution_count": 65,
   "id": "1c52c39f-d9e2-4c8b-ae24-ca3310df6627",
   "metadata": {},
   "outputs": [],
   "source": [
    "#clear fo all data scientist\n",
    "clean_data.loc[clean_data[\"name\"] == \"Machine Learning Engineer\", \"name\"] = \"Data Scientist\"\n",
    "clean_data.loc[clean_data[\"name\"] == \"Embedded SW Engineer - Machine Learning\", \"name\"] = \"Data Scientist\"\n",
    "clean_data.loc[clean_data[\"name\"] == \"Machine Learning SW Engineer\", \"name\"] = \"Data Scientist\"\n",
    "clean_data.loc[clean_data[\"name\"] == \"Data Science Engineer - ML Projects\", \"name\"] = \"Data Scientist\"\n",
    "clean_data.loc[clean_data[\"name\"] == \"Data Scientist, TikTok Creation and Consumption\", \"name\"] = \"Data Scientist\"\n",
    "clean_data.loc[clean_data[\"name\"] == \"Data Scientist - TikTok Account\", \"name\"] = \"Data Scientist\"\n",
    "clean_data.loc[clean_data[\"name\"] == \"Data Scientist - Search\", \"name\"] = \"Data Scientist\"\n",
    "clean_data.loc[clean_data[\"name\"] == \"Data Scientist, Ads Analytics\", \"name\"] = \"Data Scientist\"\n",
    "clean_data.loc[clean_data[\"name\"] == \"Associate, Data Science\", \"name\"] = \"Data Scientist\"\n",
    "clean_data.loc[clean_data[\"name\"] == \"Data Scientist - Relationship discovery\", \"name\"] = \"Data Scientist\"\n",
    "clean_data.loc[clean_data[\"name\"] == \"Data Scientist (SAS)\", \"name\"] = \"Data Scientist\"\n",
    "clean_data.loc[clean_data[\"name\"] == \"Data Scientist, Special Projects\", \"name\"] = \"Data Scientist\"\n",
    "clean_data.loc[clean_data[\"name\"] == \"Data Scientist - Hybrid\", \"name\"] = \"Data Scientist\"\n",
    "clean_data.loc[clean_data[\"name\"] == \"Data Scientist I\", \"name\"] = \"Data Scientist\"\n",
    "clean_data.loc[clean_data[\"name\"] == \"Data Scientist - Risk Data Mining\", \"name\"] = \"Data Scientist\"\n",
    "clean_data.loc[clean_data[\"name\"] == \"Data Scientist - Hybrid - Urgent\", \"name\"] = \"Data Scientist\"\n",
    "clean_data.loc[clean_data[\"name\"] == \"Multi Asset  Quant/Data Scientist role\", \"name\"] = \"Data Scientist\"\n",
    "clean_data.loc[clean_data[\"name\"] == \"Data Scientist, Tiktok Ads- Growth Marketing\", \"name\"] = \"Data Scientist\"\n",
    "clean_data.loc[clean_data[\"name\"] == \"NLP Researcher (Data Scientist)\", \"name\"] = \"Data Scientist\"\n",
    "\n",
    "\n",
    "#clear for all senior data scinetist\n",
    "clean_data.loc[clean_data[\"name\"] == \"Senior Data analyst/Scientist\", \"name\"] = \"Senior Data Scientist\"\n",
    "clean_data.loc[clean_data[\"name\"] == \"Senior Data Scientist for Time Series projects\", \"name\"] = \"Senior Data Scientist\"\n",
    "clean_data.loc[clean_data[\"name\"] == \"Senior Data Engineer (Store No8 | Health & Wellness)\", \"name\"] = \"Senior Data Scientist\"\n",
    "clean_data.loc[clean_data[\"name\"] == \"Senior Machine Learning Engineer, Recommendation - US Tech Services\", \"name\"] = \"Senior Data Scientist\"\n",
    "clean_data.loc[clean_data[\"name\"] == \"Senior Software Engineer, Machine Learning Platform\", \"name\"] = \"Senior Data Scientist\"\n",
    "clean_data.loc[clean_data[\"name\"] == \"Python, Data Science and Machine Learning\", \"name\"] = \"Senior Data Scientist\"\n",
    "clean_data.loc[clean_data[\"name\"] == \"Data Scientist II, Analytics\", \"name\"] = \"Senior Data Scientist\"\n",
    "clean_data.loc[clean_data[\"name\"] == \"Sr. Data Scientist\", \"name\"] = \"Senior Data Scientist\"\n",
    "\n",
    "#clear for all lead data scientist\n",
    "clean_data.loc[clean_data[\"name\"] == \"Software developer in the field of Machine Vision\", \"name\"] = \"Lead Data Scientist\"\n",
    "clean_data.loc[clean_data[\"name\"] == \"Tech Lead, Machine Learning Engineer, Recommendation & Algorithm\", \"name\"] = \"Lead Data Scientist\"\n",
    "\n",
    "#clear for all data analyst \n",
    "clean_data.loc[clean_data[\"name\"] == \"Employee Benefits Underwriter - Data Analyst\", \"name\"] = \"Data Analyst\"\n",
    "\n",
    "#clean for all Big data engineer\n",
    "clean_data.loc[clean_data[\"name\"] == \"Junior Java Software Engineer (Big Data processing and Data Mining)\", \"name\"] = \"Big Data Engineer\"\n",
    "clean_data.loc[clean_data[\"name\"] == \"Full Stack Software Engineer (.NET and react.js), Data & Services, Locations Program\", \"name\"] = \"Big Data Engineer\"\n",
    "clean_data.loc[clean_data[\"name\"] == \"Data Engineer - Big Data + Digital Marketing\", \"name\"] = \"Big Data Engineer\"\n",
    "clean_data.loc[clean_data[\"name\"] == \"Cloud Data Engineer | Renewable Energy Trading Firm | Boston\", \"name\"] = \"Big Data Engineer\"\n",
    "clean_data.loc[clean_data[\"name\"] == \"Sr. Data Engineer\", \"name\"] = \"Big Data Engineer\"\n",
    "clean_data.loc[clean_data[\"name\"] == \"Data Engineer II\", \"name\"] = \"Big Data Engineer\""
   ]
  },
  {
   "cell_type": "code",
   "execution_count": 66,
   "id": "b43ad330-eb2e-4b83-9192-53cf50f7b99a",
   "metadata": {},
   "outputs": [
    {
     "data": {
      "text/plain": [
       "Data Scientist                      561\n",
       "Big Data Engineer                    60\n",
       "Senior Data Scientist                49\n",
       "Lead Data Scientist                  30\n",
       "Junior Data Scientist                28\n",
       "Data Analyst                          6\n",
       "Staff Data Scientist                  3\n",
       "AI Engineer                           2\n",
       "Senior Data Analyst                   1\n",
       "Business Intelligence Developers      1\n",
       "Data Crawling Engineer                1\n",
       "Name: name, dtype: int64"
      ]
     },
     "execution_count": 66,
     "metadata": {},
     "output_type": "execute_result"
    }
   ],
   "source": [
    "clean_data[\"name\"].value_counts()"
   ]
  },
  {
   "cell_type": "code",
   "execution_count": 67,
   "id": "95fb5870-003d-4d7e-a401-eefb9d86b704",
   "metadata": {},
   "outputs": [
    {
     "name": "stdout",
     "output_type": "stream",
     "text": [
      "Size of the table is: (742, 8)\n"
     ]
    }
   ],
   "source": [
    "# additional drop\n",
    "print(f\"Size of the table is: {clean_data.shape}\")"
   ]
  },
  {
   "cell_type": "code",
   "execution_count": 68,
   "id": "58c0ca59-ce42-4bc7-893a-3ddf7a01d99a",
   "metadata": {},
   "outputs": [
    {
     "data": {
      "text/plain": [
       "(742, 8)"
      ]
     },
     "execution_count": 68,
     "metadata": {},
     "output_type": "execute_result"
    }
   ],
   "source": [
    "clean_data = clean_data.drop_duplicates()\n",
    "clean_data.shape"
   ]
  },
  {
   "cell_type": "code",
   "execution_count": 69,
   "id": "267bfa58-4638-408e-b600-dc98216a3c1a",
   "metadata": {},
   "outputs": [
    {
     "data": {
      "text/plain": [
       "LHH                   59\n",
       "TikTok                42\n",
       "HP                    39\n",
       "NXP Semiconductors    32\n",
       "Merkle DACH           27\n",
       "                      ..\n",
       "S3 Partners            1\n",
       "TWO NIL                1\n",
       "Opensignal             1\n",
       "OmniML                 1\n",
       "SkyHive                1\n",
       "Name: company_name, Length: 100, dtype: int64"
      ]
     },
     "execution_count": 69,
     "metadata": {},
     "output_type": "execute_result"
    }
   ],
   "source": [
    "clean_data[\"company_name\"].value_counts()"
   ]
  },
  {
   "cell_type": "code",
   "execution_count": 70,
   "id": "65d57fef-5eba-4677-bf89-c9dbed1566b8",
   "metadata": {},
   "outputs": [],
   "source": [
    "clean_data.loc[clean_data[\"location\"] == \"Praha\", \"location\"] = \"Hlavní město Praha, Česko\"\n",
    "\n",
    "clean_data.loc[clean_data[\"location\"] == \"New York, NY\", \"location\"] = \"New York, United States\"  \n",
    "clean_data.loc[clean_data[\"location\"] == \"New York City Metropolitan Area\", \"location\"] = \"New York, United States\""
   ]
  },
  {
   "cell_type": "code",
   "execution_count": 71,
   "id": "3260c9ce-a6c7-47a5-a841-22f355c3b5b9",
   "metadata": {},
   "outputs": [
    {
     "data": {
      "text/plain": [
       "Hlavní město Praha, Česko    188\n",
       "Brno                          49\n",
       "Austin, TX                    46\n",
       "New York, United States       35\n",
       "Sunnyvale, CA                 29\n",
       "                            ... \n",
       "Downers Grove, IL              1\n",
       "San Jose, CA                   1\n",
       "Greater St. Louis              1\n",
       "Raleigh, NC                    1\n",
       "McLean, VA                     1\n",
       "Name: location, Length: 62, dtype: int64"
      ]
     },
     "execution_count": 71,
     "metadata": {},
     "output_type": "execute_result"
    }
   ],
   "source": [
    "clean_data[\"location\"].value_counts()"
   ]
  },
  {
   "cell_type": "code",
   "execution_count": 72,
   "id": "04f0592e-faa8-488a-b310-82113505f7b3",
   "metadata": {},
   "outputs": [
    {
     "data": {
      "text/plain": [
       "2022-05-15    66\n",
       "2022-05-16    65\n",
       "2022-05-17    90\n",
       "2022-05-18    78\n",
       "2022-05-19    97\n",
       "2022-05-20    65\n",
       "2022-05-21    79\n",
       "2022-05-22    56\n",
       "2022-05-23    51\n",
       "2022-05-24    95\n",
       "Name: date, dtype: int64"
      ]
     },
     "execution_count": 72,
     "metadata": {},
     "output_type": "execute_result"
    }
   ],
   "source": [
    "clean_data[\"date\"].value_counts().sort_index()"
   ]
  },
  {
   "cell_type": "markdown",
   "id": "d9c1f1b9-4478-411c-9bab-853cec2255a2",
   "metadata": {},
   "source": [
    "### Saving the clean dataset to CSV for further analysis:"
   ]
  },
  {
   "cell_type": "code",
   "execution_count": 73,
   "id": "a2e3e5f3-b8e1-47bf-a696-495372ffb425",
   "metadata": {},
   "outputs": [],
   "source": [
    "clean_data.to_csv(\"DATA/clean_data.csv\", index=False)"
   ]
  },
  {
   "cell_type": "code",
   "execution_count": null,
   "id": "c79369ce-7a2b-4162-b699-1c8505dfab86",
   "metadata": {},
   "outputs": [],
   "source": []
  },
  {
   "cell_type": "code",
   "execution_count": null,
   "id": "804053a1-3638-4299-a544-83f886b953df",
   "metadata": {},
   "outputs": [],
   "source": []
  }
 ],
 "metadata": {
  "kernelspec": {
   "display_name": "Python 3 (ipykernel)",
   "language": "python",
   "name": "python3"
  },
  "language_info": {
   "codemirror_mode": {
    "name": "ipython",
    "version": 3
   },
   "file_extension": ".py",
   "mimetype": "text/x-python",
   "name": "python",
   "nbconvert_exporter": "python",
   "pygments_lexer": "ipython3",
   "version": "3.9.13"
  }
 },
 "nbformat": 4,
 "nbformat_minor": 5
}
