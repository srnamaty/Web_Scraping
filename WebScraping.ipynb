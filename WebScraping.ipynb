{
 "cells": [
  {
   "cell_type": "markdown",
   "id": "a8626083-0541-4e81-b45f-a44f74dae7e3",
   "metadata": {},
   "source": [
    "### Module imports:"
   ]
  },
  {
   "cell_type": "code",
   "execution_count": 1,
   "id": "d3524eab-7f34-47b2-8543-f6b22a13822d",
   "metadata": {},
   "outputs": [],
   "source": [
    "from bs4 import BeautifulSoup\n",
    "import pandas as pd\n",
    "import requests\n",
    "from datetime import date\n",
    "from time import sleep\n",
    "import glob\n",
    "import numpy as np"
   ]
  },
  {
   "cell_type": "markdown",
   "id": "8a1d47b0-8d8f-461c-a861-d7461d18e873",
   "metadata": {},
   "source": [
    "## List of http links to jobs:"
   ]
  },
  {
   "cell_type": "code",
   "execution_count": 2,
   "id": "11aa9eb9-23e5-4767-b67b-12fda8ddcc61",
   "metadata": {},
   "outputs": [],
   "source": [
    "link_browser = [\"https://www.linkedin.com/jobs/search/?f_WT=3&keywords=data%20scientist&location=%C4%8Desko\", \n",
    "                \"https://www.linkedin.com/jobs/search/?f_WT=3&keywords=data%20scientist&location=%C4%8Desko&start=25\", \n",
    "                \"https://www.linkedin.com/jobs/search/?f_WT=3&keywords=data%20scientist&location=%C4%8Desko&start=50\", \n",
    "                \"https://www.linkedin.com/jobs/search/?f_WT=3&keywords=data%20scientist&location=%C4%8Desko&start=75\"]"
   ]
  },
  {
   "cell_type": "code",
   "execution_count": 3,
   "id": "322ceb27-e1f2-4d9d-a1b6-06986e23851c",
   "metadata": {},
   "outputs": [],
   "source": [
    "size_of_list = len(link_browser)\n",
    "\n",
    "links = []\n",
    "\n",
    "for n in range(size_of_list):\n",
    "    response = requests.get(link_browser[n])\n",
    "    html_text = response.text\n",
    "    soup = BeautifulSoup(html_text, \"html.parser\")\n",
    "    hrefs = soup.find_all(\"a\", class_= \"base-card__full-link absolute top-0 right-0 bottom-0 left-0 p-0 z-[2]\")\n",
    "    for n in hrefs:\n",
    "        links.append(n[\"href\"])"
   ]
  },
  {
   "cell_type": "code",
   "execution_count": 4,
   "id": "e18b31bb-7466-487c-b0ea-107e37d09899",
   "metadata": {},
   "outputs": [
    {
     "name": "stdout",
     "output_type": "stream",
     "text": [
      "['https://www.linkedin.com/jobs/view/data-scientist-risk-data-mining-at-tiktok-2955922873?refId=WT3BAb5f5nr6x%2BVSqewX4g%3D%3D&trackingId=24M1a1W6TqEW%2BwiPfSyK2A%3D%3D&position=1&pageNum=0&trk=public_jobs_jserp-result_search-card', 'https://www.linkedin.com/jobs/view/data-scientist-at-now100-3076495367?refId=WT3BAb5f5nr6x%2BVSqewX4g%3D%3D&trackingId=IEqfN%2BW%2FLHydU2LrY4OuHw%3D%3D&position=2&pageNum=0&trk=public_jobs_jserp-result_search-card', 'https://www.linkedin.com/jobs/view/data-scientist-hybrid-urgent-at-sharp-decisions-3075722990?refId=WT3BAb5f5nr6x%2BVSqewX4g%3D%3D&trackingId=QI7mYt6F%2FddcJ0qEccD1RA%3D%3D&position=3&pageNum=0&trk=public_jobs_jserp-result_search-card', 'https://www.linkedin.com/jobs/view/sr-data-scientist-at-panera-bread-3067315160?refId=WT3BAb5f5nr6x%2BVSqewX4g%3D%3D&trackingId=0FNegrfc3qGU9acX9zw02Q%3D%3D&position=4&pageNum=0&trk=public_jobs_jserp-result_search-card', 'https://www.linkedin.com/jobs/view/data-scientist-at-tatari-3030759116?refId=WT3BAb5f5nr6x%2BVSqewX4g%3D%3D&trackingId=JAEao%2F%2Bh1FDbXnmvZo36fg%3D%3D&position=5&pageNum=0&trk=public_jobs_jserp-result_search-card', 'https://www.linkedin.com/jobs/view/data-scientist-at-arcspan-2861013978?refId=WT3BAb5f5nr6x%2BVSqewX4g%3D%3D&trackingId=8BLV7zLUA5LQKsbOeZWJog%3D%3D&position=6&pageNum=0&trk=public_jobs_jserp-result_search-card', 'https://www.linkedin.com/jobs/view/data-scientist-at-lhh-3051584559?refId=WT3BAb5f5nr6x%2BVSqewX4g%3D%3D&trackingId=byCtXZ7b%2FXbmncF5tT5z5Q%3D%3D&position=7&pageNum=0&trk=public_jobs_jserp-result_search-card', 'https://www.linkedin.com/jobs/view/data-scientist-at-glean-3067550329?refId=WT3BAb5f5nr6x%2BVSqewX4g%3D%3D&trackingId=wuw7CXmjTYWk22phuTp0qQ%3D%3D&position=8&pageNum=0&trk=public_jobs_jserp-result_search-card', 'https://www.linkedin.com/jobs/view/data-scientist-at-cognitiv-3059161258?refId=WT3BAb5f5nr6x%2BVSqewX4g%3D%3D&trackingId=Wca5EuFxCq3jsy1qPZqDfQ%3D%3D&position=9&pageNum=0&trk=public_jobs_jserp-result_search-card', 'https://www.linkedin.com/jobs/view/data-scientist-at-stem-it-3074821356?refId=WT3BAb5f5nr6x%2BVSqewX4g%3D%3D&trackingId=r3KG3f%2FS7WN%2F4dkTYYtz3g%3D%3D&position=10&pageNum=0&trk=public_jobs_jserp-result_search-card', 'https://www.linkedin.com/jobs/view/data-scientist-at-revolve-3073129918?refId=WT3BAb5f5nr6x%2BVSqewX4g%3D%3D&trackingId=Q7qWGbbdCBCFh9CsqvAy0w%3D%3D&position=11&pageNum=0&trk=public_jobs_jserp-result_search-card', 'https://www.linkedin.com/jobs/view/data-scientist-tiktok-account-at-tiktok-3067564539?refId=WT3BAb5f5nr6x%2BVSqewX4g%3D%3D&trackingId=g7JVoaBqzddJiCc55O5V%2FA%3D%3D&position=12&pageNum=0&trk=public_jobs_jserp-result_search-card', 'https://www.linkedin.com/jobs/view/data-scientist-at-brigham-and-women-s-hospital-3064784393?refId=WT3BAb5f5nr6x%2BVSqewX4g%3D%3D&trackingId=WP6wKwEYAW6UcFQKrSvBGA%3D%3D&position=13&pageNum=0&trk=public_jobs_jserp-result_search-card', 'https://www.linkedin.com/jobs/view/multi-asset-quant-data-scientist-role-at-atlantic-partners-corporation-3070839913?refId=WT3BAb5f5nr6x%2BVSqewX4g%3D%3D&trackingId=OduUSrdtHB7ww7pVrMoZOw%3D%3D&position=14&pageNum=0&trk=public_jobs_jserp-result_search-card', 'https://www.linkedin.com/jobs/view/data-scientist-at-equal-opportunity-ventures-3070845192?refId=WT3BAb5f5nr6x%2BVSqewX4g%3D%3D&trackingId=5uICQ3%2BkaKhaJcGXfSuiFg%3D%3D&position=15&pageNum=0&trk=public_jobs_jserp-result_search-card', 'https://www.linkedin.com/jobs/view/data-scientist-at-hp-3040038683?refId=WT3BAb5f5nr6x%2BVSqewX4g%3D%3D&trackingId=DIMeUwax9ner6YoBO3Gq8Q%3D%3D&position=16&pageNum=0&trk=public_jobs_jserp-result_search-card', 'https://www.linkedin.com/jobs/view/data-scientist-hybrid-at-hilton-grand-vacations-3080725548?refId=WT3BAb5f5nr6x%2BVSqewX4g%3D%3D&trackingId=dAhWbEpjPCeMJgg%2FLvplgA%3D%3D&position=17&pageNum=0&trk=public_jobs_jserp-result_search-card', 'https://www.linkedin.com/jobs/view/data-scientist-tiktok-ads-growth-marketing-at-tiktok-3053458207?refId=WT3BAb5f5nr6x%2BVSqewX4g%3D%3D&trackingId=1rk%2Bn8BoJiRV5yoNq6H1LQ%3D%3D&position=18&pageNum=0&trk=public_jobs_jserp-result_search-card', 'https://www.linkedin.com/jobs/view/nlp-researcher-data-scientist-at-lmre-3085729060?refId=WT3BAb5f5nr6x%2BVSqewX4g%3D%3D&trackingId=cFaAQOXWA3HC765J1PUgCw%3D%3D&position=19&pageNum=0&trk=public_jobs_jserp-result_search-card', 'https://www.linkedin.com/jobs/view/data-scientist-at-chisel-analytics-3081247193?refId=WT3BAb5f5nr6x%2BVSqewX4g%3D%3D&trackingId=BxlQl9oahjBmP3qFV5HvmQ%3D%3D&position=20&pageNum=0&trk=public_jobs_jserp-result_search-card', 'https://www.linkedin.com/jobs/view/data-scientist-at-gartner-3052207834?refId=WT3BAb5f5nr6x%2BVSqewX4g%3D%3D&trackingId=TMVvv77JYhbiU23K4OZnuA%3D%3D&position=21&pageNum=0&trk=public_jobs_jserp-result_search-card', 'https://www.linkedin.com/jobs/view/junior-data-scientist-at-spreetail-3069468960?refId=WT3BAb5f5nr6x%2BVSqewX4g%3D%3D&trackingId=kpLfpQcNWczW9Ut%2B7pGryw%3D%3D&position=22&pageNum=0&trk=public_jobs_jserp-result_search-card', 'https://www.linkedin.com/jobs/view/data-scientist-tiktok-creation-and-consumption-at-tiktok-3053603889?refId=WT3BAb5f5nr6x%2BVSqewX4g%3D%3D&trackingId=0tcS7jjiKaSFGPLdoUNTBA%3D%3D&position=23&pageNum=0&trk=public_jobs_jserp-result_search-card', 'https://www.linkedin.com/jobs/view/data-scientist-ads-analytics-at-niantic-inc-3005254378?refId=WT3BAb5f5nr6x%2BVSqewX4g%3D%3D&trackingId=XTYNtw8S25of95KWRsJjPA%3D%3D&position=24&pageNum=0&trk=public_jobs_jserp-result_search-card', 'https://www.linkedin.com/jobs/view/junior-data-scientist-at-spreetail-3069472597?refId=WT3BAb5f5nr6x%2BVSqewX4g%3D%3D&trackingId=R%2FcFyIUUEbJ45f2PWqtZVg%3D%3D&position=25&pageNum=0&trk=public_jobs_jserp-result_search-card', 'https://www.linkedin.com/jobs/view/data-scientist-at-nvish-solutions-3089034219?refId=L8VoVxIm0RYydteJvrCSGw%3D%3D&trackingId=l0TAwu7sIllSeSNxf%2F4Jpg%3D%3D&position=1&pageNum=0&trk=public_jobs_jserp-result_search-card', 'https://www.linkedin.com/jobs/view/data-scientist-hybrid-at-hilton-grand-vacations-3080725548?refId=L8VoVxIm0RYydteJvrCSGw%3D%3D&trackingId=ebXwqBOVE2LNUWhwngtA2A%3D%3D&position=2&pageNum=0&trk=public_jobs_jserp-result_search-card', 'https://www.linkedin.com/jobs/view/data-scientist-at-hp-3004035221?refId=L8VoVxIm0RYydteJvrCSGw%3D%3D&trackingId=gRnc2ETXCpikPdFwicI6yw%3D%3D&position=3&pageNum=0&trk=public_jobs_jserp-result_search-card', 'https://www.linkedin.com/jobs/view/data-scientist-at-lhh-3081274956?refId=L8VoVxIm0RYydteJvrCSGw%3D%3D&trackingId=evj%2BrocYp4kYHlrNbjUwSw%3D%3D&position=5&pageNum=0&trk=public_jobs_jserp-result_search-card', 'https://www.linkedin.com/jobs/view/data-scientist-at-datavations-3075764480?refId=L8VoVxIm0RYydteJvrCSGw%3D%3D&trackingId=4NZIchhf1uiLsFP0KPFFRQ%3D%3D&position=6&pageNum=0&trk=public_jobs_jserp-result_search-card', 'https://www.linkedin.com/jobs/view/data-scientist-at-hp-3040038683?refId=L8VoVxIm0RYydteJvrCSGw%3D%3D&trackingId=ybr0hqVhlCuWxnhnZJzh2g%3D%3D&position=7&pageNum=0&trk=public_jobs_jserp-result_search-card', 'https://www.linkedin.com/jobs/view/data-scientist-at-cognira-3071542752?refId=L8VoVxIm0RYydteJvrCSGw%3D%3D&trackingId=jQCVx%2Fe%2F1YGA0HUlCC5C%2BQ%3D%3D&position=8&pageNum=0&trk=public_jobs_jserp-result_search-card', 'https://www.linkedin.com/jobs/view/data-scientist-at-btis-3053581222?refId=L8VoVxIm0RYydteJvrCSGw%3D%3D&trackingId=aDVSMoqNo0go1RBZhksKHQ%3D%3D&position=9&pageNum=0&trk=public_jobs_jserp-result_search-card', 'https://www.linkedin.com/jobs/view/data-scientist-at-samsung-austin-semiconductor-3080661405?refId=L8VoVxIm0RYydteJvrCSGw%3D%3D&trackingId=%2FEzBtA7%2F2I0QvH81CORrsA%3D%3D&position=10&pageNum=0&trk=public_jobs_jserp-result_search-card', 'https://www.linkedin.com/jobs/view/data-scientist-tiktok-account-at-tiktok-3067564539?refId=L8VoVxIm0RYydteJvrCSGw%3D%3D&trackingId=Jt7yeIzndXcV7rLflFA6OQ%3D%3D&position=11&pageNum=0&trk=public_jobs_jserp-result_search-card', 'https://www.linkedin.com/jobs/view/data-scientist-at-upgrade-inc-3077299712?refId=L8VoVxIm0RYydteJvrCSGw%3D%3D&trackingId=YV%2F3yvqiBRLg2pUgVrTguA%3D%3D&position=12&pageNum=0&trk=public_jobs_jserp-result_search-card', 'https://www.linkedin.com/jobs/view/data-scientist-at-optx-3010643477?refId=L8VoVxIm0RYydteJvrCSGw%3D%3D&trackingId=P1l3bo3zQfVWdXxVtNzesA%3D%3D&position=13&pageNum=0&trk=public_jobs_jserp-result_search-card', 'https://www.linkedin.com/jobs/view/data-scientist-search-at-walmart-global-tech-3066103651?refId=L8VoVxIm0RYydteJvrCSGw%3D%3D&trackingId=ceW2IibIvOL16gXzhNKpuA%3D%3D&position=14&pageNum=0&trk=public_jobs_jserp-result_search-card', 'https://www.linkedin.com/jobs/view/data-scientist-at-equal-opportunity-ventures-3070845192?refId=L8VoVxIm0RYydteJvrCSGw%3D%3D&trackingId=5GDcIoCLvuE5FkSw2H2snQ%3D%3D&position=15&pageNum=0&trk=public_jobs_jserp-result_search-card', 'https://www.linkedin.com/jobs/view/data-scientist-at-lhh-3067595085?refId=L8VoVxIm0RYydteJvrCSGw%3D%3D&trackingId=csJCQGLLdFCMOLpfsdvtDw%3D%3D&position=16&pageNum=0&trk=public_jobs_jserp-result_search-card', 'https://www.linkedin.com/jobs/view/data-scientist-special-projects-at-cinqcare-3075098153?refId=L8VoVxIm0RYydteJvrCSGw%3D%3D&trackingId=q654M0u%2BmifCT0NnoGg4aw%3D%3D&position=17&pageNum=0&trk=public_jobs_jserp-result_search-card', 'https://www.linkedin.com/jobs/view/data-scientist-at-neudesic-3070727244?refId=L8VoVxIm0RYydteJvrCSGw%3D%3D&trackingId=1XBu3cZipCXuKHWxK1DeLQ%3D%3D&position=18&pageNum=0&trk=public_jobs_jserp-result_search-card', 'https://www.linkedin.com/jobs/view/data-scientist-at-lhh-3070801862?refId=L8VoVxIm0RYydteJvrCSGw%3D%3D&trackingId=V0mbK6ktUrumgHan7H%2BkMw%3D%3D&position=19&pageNum=0&trk=public_jobs_jserp-result_search-card', 'https://www.linkedin.com/jobs/view/data-scientist-at-catalog-3075815875?refId=L8VoVxIm0RYydteJvrCSGw%3D%3D&trackingId=tK8kuKIZy4QflpHN5BVdkA%3D%3D&position=20&pageNum=0&trk=public_jobs_jserp-result_search-card', 'https://www.linkedin.com/jobs/view/data-scientist-at-lhh-3077000142?refId=L8VoVxIm0RYydteJvrCSGw%3D%3D&trackingId=c871elmXfX84wSyGQ1oYlw%3D%3D&position=21&pageNum=0&trk=public_jobs_jserp-result_search-card', 'https://www.linkedin.com/jobs/view/data-scientist-ads-analytics-at-niantic-inc-3024132462?refId=L8VoVxIm0RYydteJvrCSGw%3D%3D&trackingId=62HTx3mCvMClVl9mWxu%2BKw%3D%3D&position=22&pageNum=0&trk=public_jobs_jserp-result_search-card', 'https://www.linkedin.com/jobs/view/staff-data-scientist-at-walmart-3090825185?refId=L8VoVxIm0RYydteJvrCSGw%3D%3D&trackingId=PHv3AnwKoLW6BPv66CobNA%3D%3D&position=23&pageNum=0&trk=public_jobs_jserp-result_search-card', 'https://www.linkedin.com/jobs/view/data-scientist-tiktok-creation-and-consumption-at-tiktok-3050507177?refId=L8VoVxIm0RYydteJvrCSGw%3D%3D&trackingId=vrUVCzZ3zsr78U6hhvAZng%3D%3D&position=24&pageNum=0&trk=public_jobs_jserp-result_search-card', 'https://www.linkedin.com/jobs/view/junior-data-scientist-at-spreetail-3069468960?refId=L8VoVxIm0RYydteJvrCSGw%3D%3D&trackingId=8I0CY91mXOHn1V0kqEQNhw%3D%3D&position=25&pageNum=0&trk=public_jobs_jserp-result_search-card', 'https://www.linkedin.com/jobs/view/data-scientist-at-nvish-solutions-3089034219?refId=38IhSml%2BLaQBTSCYzzYd1g%3D%3D&trackingId=lbwMono3%2FlBJAq4sBG4zeQ%3D%3D&position=1&pageNum=0&trk=public_jobs_jserp-result_search-card', 'https://www.linkedin.com/jobs/view/data-scientist-hybrid-at-hilton-grand-vacations-3080725548?refId=38IhSml%2BLaQBTSCYzzYd1g%3D%3D&trackingId=jI2qXAJzAmcfmo8jZgrtfQ%3D%3D&position=2&pageNum=0&trk=public_jobs_jserp-result_search-card', 'https://www.linkedin.com/jobs/view/data-scientist-at-eros-technologies-inc-3088557093?refId=38IhSml%2BLaQBTSCYzzYd1g%3D%3D&trackingId=tkuGLzBUGen6njxI6L8PKw%3D%3D&position=3&pageNum=0&trk=public_jobs_jserp-result_search-card', 'https://www.linkedin.com/jobs/view/data-scientist-at-hp-3004035221?refId=38IhSml%2BLaQBTSCYzzYd1g%3D%3D&trackingId=PxXTL8oMCnr3XnfFUG3WwQ%3D%3D&position=5&pageNum=0&trk=public_jobs_jserp-result_search-card', 'https://www.linkedin.com/jobs/view/data-scientist-at-the-cooper-institute-3090611050?refId=38IhSml%2BLaQBTSCYzzYd1g%3D%3D&trackingId=3Hc%2BmiyNggqVzZA7hDM4Ew%3D%3D&position=7&pageNum=0&trk=public_jobs_jserp-result_search-card', 'https://www.linkedin.com/jobs/view/data-scientist-at-datavations-3075764480?refId=38IhSml%2BLaQBTSCYzzYd1g%3D%3D&trackingId=62RsCyvUkxq9MMJJsA5J0w%3D%3D&position=8&pageNum=0&trk=public_jobs_jserp-result_search-card', 'https://www.linkedin.com/jobs/view/data-scientist-at-hp-3040038683?refId=38IhSml%2BLaQBTSCYzzYd1g%3D%3D&trackingId=q91jgsDoJo4G142fTMi7XQ%3D%3D&position=9&pageNum=0&trk=public_jobs_jserp-result_search-card', 'https://www.linkedin.com/jobs/view/data-scientist-at-lhh-3081274956?refId=38IhSml%2BLaQBTSCYzzYd1g%3D%3D&trackingId=9gNthHbfS3LM3Om6p%2BMmdg%3D%3D&position=10&pageNum=0&trk=public_jobs_jserp-result_search-card', 'https://www.linkedin.com/jobs/view/data-scientist-at-cognira-3071542752?refId=38IhSml%2BLaQBTSCYzzYd1g%3D%3D&trackingId=0Kaphjq5XQnbkWdZeg%2BwJQ%3D%3D&position=11&pageNum=0&trk=public_jobs_jserp-result_search-card', 'https://www.linkedin.com/jobs/view/data-scientist-at-samsung-austin-semiconductor-3080661405?refId=38IhSml%2BLaQBTSCYzzYd1g%3D%3D&trackingId=7CziZlMY047n7WsiIVMV5Q%3D%3D&position=12&pageNum=0&trk=public_jobs_jserp-result_search-card', 'https://www.linkedin.com/jobs/view/data-scientist-at-btis-3053581222?refId=38IhSml%2BLaQBTSCYzzYd1g%3D%3D&trackingId=pUfLENX6LryLo32XentcMA%3D%3D&position=13&pageNum=0&trk=public_jobs_jserp-result_search-card', 'https://www.linkedin.com/jobs/view/data-scientist-tiktok-account-at-tiktok-3067564539?refId=38IhSml%2BLaQBTSCYzzYd1g%3D%3D&trackingId=IjwHVfQ6P9FzvNHznh9UzQ%3D%3D&position=14&pageNum=0&trk=public_jobs_jserp-result_search-card', 'https://www.linkedin.com/jobs/view/data-scientist-at-optx-3010643477?refId=38IhSml%2BLaQBTSCYzzYd1g%3D%3D&trackingId=xiZTVvprYfvolJQBIaaxFQ%3D%3D&position=15&pageNum=0&trk=public_jobs_jserp-result_search-card', 'https://www.linkedin.com/jobs/view/data-scientist-at-upgrade-inc-3077299712?refId=38IhSml%2BLaQBTSCYzzYd1g%3D%3D&trackingId=rVlCYiPg8VCFSco07PXoaw%3D%3D&position=16&pageNum=0&trk=public_jobs_jserp-result_search-card', 'https://www.linkedin.com/jobs/view/data-scientist-at-equal-opportunity-ventures-3070845192?refId=38IhSml%2BLaQBTSCYzzYd1g%3D%3D&trackingId=HdK5hPkjoKbotLav%2FRTQ%2Bw%3D%3D&position=17&pageNum=0&trk=public_jobs_jserp-result_search-card', 'https://www.linkedin.com/jobs/view/data-scientist-at-lhh-3067595085?refId=38IhSml%2BLaQBTSCYzzYd1g%3D%3D&trackingId=U9txYPmTCjJqoiYnS4WgRA%3D%3D&position=18&pageNum=0&trk=public_jobs_jserp-result_search-card', 'https://www.linkedin.com/jobs/view/data-scientist-search-at-walmart-global-tech-3066103651?refId=38IhSml%2BLaQBTSCYzzYd1g%3D%3D&trackingId=ilI2rFjYiaiWahWkfNb1FA%3D%3D&position=19&pageNum=0&trk=public_jobs_jserp-result_search-card', 'https://www.linkedin.com/jobs/view/data-scientist-special-projects-at-cinqcare-3075098153?refId=38IhSml%2BLaQBTSCYzzYd1g%3D%3D&trackingId=trvGGCtQvC455alcGj5NjA%3D%3D&position=20&pageNum=0&trk=public_jobs_jserp-result_search-card', 'https://www.linkedin.com/jobs/view/data-scientist-at-neudesic-3070727244?refId=38IhSml%2BLaQBTSCYzzYd1g%3D%3D&trackingId=ecejkVgRhmETJ1O0S9r1VQ%3D%3D&position=21&pageNum=0&trk=public_jobs_jserp-result_search-card', 'https://www.linkedin.com/jobs/view/data-scientist-at-catalog-3075815875?refId=38IhSml%2BLaQBTSCYzzYd1g%3D%3D&trackingId=GbOS%2F%2Bsg%2BfcLzz1e39kBcw%3D%3D&position=22&pageNum=0&trk=public_jobs_jserp-result_search-card', 'https://www.linkedin.com/jobs/view/data-scientist-at-lhh-3077000142?refId=38IhSml%2BLaQBTSCYzzYd1g%3D%3D&trackingId=817kaNms1fe1Itf9ZoWOAg%3D%3D&position=23&pageNum=0&trk=public_jobs_jserp-result_search-card', 'https://www.linkedin.com/jobs/view/data-scientist-at-lhh-3078415041?refId=38IhSml%2BLaQBTSCYzzYd1g%3D%3D&trackingId=Eusgo8CII0QxMl7M92%2BZZw%3D%3D&position=24&pageNum=0&trk=public_jobs_jserp-result_search-card', 'https://www.linkedin.com/jobs/view/staff-data-scientist-at-walmart-3090825185?refId=38IhSml%2BLaQBTSCYzzYd1g%3D%3D&trackingId=XJh7PLzCOifOZlgfNv4BdQ%3D%3D&position=25&pageNum=0&trk=public_jobs_jserp-result_search-card', 'https://www.linkedin.com/jobs/view/data-scientist-at-nvish-solutions-3089034219?refId=sotctWy8WWRvxT1ilTSALg%3D%3D&trackingId=VbS7sb815Iwsdz2AumqerQ%3D%3D&position=1&pageNum=0&trk=public_jobs_jserp-result_search-card', 'https://www.linkedin.com/jobs/view/data-scientist-hybrid-at-hilton-grand-vacations-3080725548?refId=sotctWy8WWRvxT1ilTSALg%3D%3D&trackingId=urueZMzcnBdBpE9661UHIg%3D%3D&position=2&pageNum=0&trk=public_jobs_jserp-result_search-card', 'https://www.linkedin.com/jobs/view/data-scientist-at-eros-technologies-inc-3088557093?refId=sotctWy8WWRvxT1ilTSALg%3D%3D&trackingId=gZuvf8hHmhTrp44uBsCwaw%3D%3D&position=3&pageNum=0&trk=public_jobs_jserp-result_search-card', 'https://www.linkedin.com/jobs/view/data-scientist-at-hp-3004035221?refId=sotctWy8WWRvxT1ilTSALg%3D%3D&trackingId=zScXWhj2W2mxpgXiy3WPAA%3D%3D&position=5&pageNum=0&trk=public_jobs_jserp-result_search-card', 'https://www.linkedin.com/jobs/view/data-scientist-at-the-cooper-institute-3090611050?refId=sotctWy8WWRvxT1ilTSALg%3D%3D&trackingId=NtjaVV3GdunyS3WgIDTbbA%3D%3D&position=7&pageNum=0&trk=public_jobs_jserp-result_search-card', 'https://www.linkedin.com/jobs/view/data-scientist-at-datavations-3075764480?refId=sotctWy8WWRvxT1ilTSALg%3D%3D&trackingId=b6pkgYzMWoQN%2BQQEZzjmww%3D%3D&position=8&pageNum=0&trk=public_jobs_jserp-result_search-card', 'https://www.linkedin.com/jobs/view/data-scientist-at-hp-3040038683?refId=sotctWy8WWRvxT1ilTSALg%3D%3D&trackingId=K%2FQ%2FrK0a%2F8%2B73InCcyi%2BiA%3D%3D&position=9&pageNum=0&trk=public_jobs_jserp-result_search-card', 'https://www.linkedin.com/jobs/view/data-scientist-at-lhh-3081274956?refId=sotctWy8WWRvxT1ilTSALg%3D%3D&trackingId=dKS7LJDkmSJMt2sB1MWBKA%3D%3D&position=10&pageNum=0&trk=public_jobs_jserp-result_search-card', 'https://www.linkedin.com/jobs/view/data-scientist-at-cognira-3071542752?refId=sotctWy8WWRvxT1ilTSALg%3D%3D&trackingId=QZKi7RR8LK0HVx7fM8YNpA%3D%3D&position=11&pageNum=0&trk=public_jobs_jserp-result_search-card', 'https://www.linkedin.com/jobs/view/data-scientist-at-samsung-austin-semiconductor-3080661405?refId=sotctWy8WWRvxT1ilTSALg%3D%3D&trackingId=Zv1cr7LE1ojO9NeO73d1mQ%3D%3D&position=12&pageNum=0&trk=public_jobs_jserp-result_search-card', 'https://www.linkedin.com/jobs/view/data-scientist-at-btis-3053581222?refId=sotctWy8WWRvxT1ilTSALg%3D%3D&trackingId=yx2xUZKXeF%2F64%2B4S%2BiCMlw%3D%3D&position=13&pageNum=0&trk=public_jobs_jserp-result_search-card', 'https://www.linkedin.com/jobs/view/data-scientist-tiktok-account-at-tiktok-3067564539?refId=sotctWy8WWRvxT1ilTSALg%3D%3D&trackingId=M0%2FfYfKSHSprwOheRerZLg%3D%3D&position=14&pageNum=0&trk=public_jobs_jserp-result_search-card', 'https://www.linkedin.com/jobs/view/data-scientist-at-optx-3010643477?refId=sotctWy8WWRvxT1ilTSALg%3D%3D&trackingId=uqr3G%2FsZSdMhaCfIqilPRw%3D%3D&position=15&pageNum=0&trk=public_jobs_jserp-result_search-card', 'https://www.linkedin.com/jobs/view/data-scientist-at-upgrade-inc-3077299712?refId=sotctWy8WWRvxT1ilTSALg%3D%3D&trackingId=OI5qxOhD3EN%2Fk%2BEZ6rsWEw%3D%3D&position=16&pageNum=0&trk=public_jobs_jserp-result_search-card', 'https://www.linkedin.com/jobs/view/data-scientist-at-equal-opportunity-ventures-3070845192?refId=sotctWy8WWRvxT1ilTSALg%3D%3D&trackingId=VkYpPYAm5Gj%2F7EOT9Okhrg%3D%3D&position=17&pageNum=0&trk=public_jobs_jserp-result_search-card', 'https://www.linkedin.com/jobs/view/data-scientist-at-lhh-3067595085?refId=sotctWy8WWRvxT1ilTSALg%3D%3D&trackingId=kbJ19IjaWmF%2BB0FzX%2BLQlw%3D%3D&position=18&pageNum=0&trk=public_jobs_jserp-result_search-card', 'https://www.linkedin.com/jobs/view/data-scientist-search-at-walmart-global-tech-3066103651?refId=sotctWy8WWRvxT1ilTSALg%3D%3D&trackingId=nS6xjG1uk4DtCGiVufnqbg%3D%3D&position=19&pageNum=0&trk=public_jobs_jserp-result_search-card', 'https://www.linkedin.com/jobs/view/data-scientist-special-projects-at-cinqcare-3075098153?refId=sotctWy8WWRvxT1ilTSALg%3D%3D&trackingId=qpTZ4hZ0pRJK7%2BMeqkOB9g%3D%3D&position=20&pageNum=0&trk=public_jobs_jserp-result_search-card', 'https://www.linkedin.com/jobs/view/data-scientist-at-neudesic-3070727244?refId=sotctWy8WWRvxT1ilTSALg%3D%3D&trackingId=EG43vhi4XAbs%2B2FdrZ73iQ%3D%3D&position=21&pageNum=0&trk=public_jobs_jserp-result_search-card', 'https://www.linkedin.com/jobs/view/data-scientist-at-catalog-3075815875?refId=sotctWy8WWRvxT1ilTSALg%3D%3D&trackingId=p4adzdjo6oWJO3UU2nkiKA%3D%3D&position=22&pageNum=0&trk=public_jobs_jserp-result_search-card', 'https://www.linkedin.com/jobs/view/data-scientist-at-lhh-3077000142?refId=sotctWy8WWRvxT1ilTSALg%3D%3D&trackingId=FYrWR5DrUUJVrjtPb32kFg%3D%3D&position=23&pageNum=0&trk=public_jobs_jserp-result_search-card', 'https://www.linkedin.com/jobs/view/data-scientist-at-lhh-3078415041?refId=sotctWy8WWRvxT1ilTSALg%3D%3D&trackingId=LXP4nPBJB9%2BgiLN%2FpuLnCw%3D%3D&position=24&pageNum=0&trk=public_jobs_jserp-result_search-card', 'https://www.linkedin.com/jobs/view/staff-data-scientist-at-walmart-3090825185?refId=sotctWy8WWRvxT1ilTSALg%3D%3D&trackingId=EgYSigtltuLP8ntQRwEhXA%3D%3D&position=25&pageNum=0&trk=public_jobs_jserp-result_search-card']\n"
     ]
    }
   ],
   "source": [
    "print(links)"
   ]
  },
  {
   "cell_type": "code",
   "execution_count": null,
   "id": "40895029-e864-4d13-83f1-f20d25227329",
   "metadata": {},
   "outputs": [],
   "source": []
  },
  {
   "cell_type": "markdown",
   "id": "522f9fa7-9d63-45b4-8bd7-dddc5daaab13",
   "metadata": {},
   "source": [
    "## Data scraping from the list of links:"
   ]
  },
  {
   "cell_type": "code",
   "execution_count": null,
   "id": "72ccf209-8e33-4731-af3c-fbd831cd2db8",
   "metadata": {},
   "outputs": [],
   "source": []
  },
  {
   "cell_type": "code",
   "execution_count": null,
   "id": "d7c282c6-2b0c-4faa-bd06-959923e28c7d",
   "metadata": {},
   "outputs": [
    {
     "name": "stdout",
     "output_type": "stream",
     "text": [
      "In process...\n",
      "0 https://www.linkedin.com/jobs/view/data-scientist-risk-data-mining-at-tiktok-2955922873?refId=WT3BAb5f5nr6x%2BVSqewX4g%3D%3D&trackingId=24M1a1W6TqEW%2BwiPfSyK2A%3D%3D&position=1&pageNum=0&trk=public_jobs_jserp-result_search-card\n",
      "$89,000.00/yr - $194,000.00/yr\n",
      "1 https://www.linkedin.com/jobs/view/data-scientist-at-now100-3076495367?refId=WT3BAb5f5nr6x%2BVSqewX4g%3D%3D&trackingId=IEqfN%2BW%2FLHydU2LrY4OuHw%3D%3D&position=2&pageNum=0&trk=public_jobs_jserp-result_search-card\n",
      "$89,000.00/yr - $194,000.00/yr\n",
      "2 https://www.linkedin.com/jobs/view/data-scientist-hybrid-urgent-at-sharp-decisions-3075722990?refId=WT3BAb5f5nr6x%2BVSqewX4g%3D%3D&trackingId=QI7mYt6F%2FddcJ0qEccD1RA%3D%3D&position=3&pageNum=0&trk=public_jobs_jserp-result_search-card\n",
      "$89,000.00/yr - $194,000.00/yr\n",
      "3 https://www.linkedin.com/jobs/view/sr-data-scientist-at-panera-bread-3067315160?refId=WT3BAb5f5nr6x%2BVSqewX4g%3D%3D&trackingId=0FNegrfc3qGU9acX9zw02Q%3D%3D&position=4&pageNum=0&trk=public_jobs_jserp-result_search-card\n",
      "$89,000.00/yr - $194,000.00/yr\n",
      "4 https://www.linkedin.com/jobs/view/data-scientist-at-tatari-3030759116?refId=WT3BAb5f5nr6x%2BVSqewX4g%3D%3D&trackingId=JAEao%2F%2Bh1FDbXnmvZo36fg%3D%3D&position=5&pageNum=0&trk=public_jobs_jserp-result_search-card\n",
      "$89,000.00/yr - $194,000.00/yr\n"
     ]
    }
   ],
   "source": [
    "size_of_list = len(links)\n",
    "print(\"In process...\")\n",
    "\n",
    "d = {\n",
    "    \"name\": [],\n",
    "    \"company_name\": [],\n",
    "    \"ago\": [],\n",
    "    \"contract\": [],\n",
    "    \"location\": [],\n",
    "    \"date\": [],\n",
    "    \"description\": [],\n",
    "    \"link\": [],\n",
    "    }\n",
    "\n",
    "for n in range(size_of_list):\n",
    "    print(n, links[n])\n",
    "    response = requests.get(links[n])\n",
    "    html_text = response.text\n",
    "    \n",
    "    #print(links[n])  \n",
    "    \n",
    "    soup = BeautifulSoup(html_text, \"html.parser\")\n",
    "    try:\n",
    "        name_s = soup.find(\"div\", class_ =\"top-card-layout__entity-info-container flex flex-wrap papabear:flex-nowrap\")\n",
    "        name_s = name_s.find(\"h1\", class_=\"top-card-layout__title font-sans text-lg papabear:text-xl font-bold leading-open text-color-text mb-0 topcard__title\")\n",
    "    except:\n",
    "        name_s = soup.find(\"div\", class_ =\"top-card-layout__card relative p-2 papabear:p-details-container-padding\")\n",
    "        name_s = name_s.find(\"div\", class_=\"top-card-layout__entity-info flex-grow flex-shrink-0 basis-0 babybear:flex-none babybear:w-full babybear:flex-none babybear:w-full\")\n",
    "        #name_s = name_s.find(\"h1\", class_=\"top-card-layout__title font-sans text-lg papabear:text-xl font-bold leading-open text-color-text mb-0 topcard__title\")\n",
    "        \n",
    "    com_name_s = soup.find(\"span\", class_ =\"topcard__flavor\")\n",
    "    time_s = soup.find(\"span\", class_=\"posted-time-ago__text topcard__flavor--metadata\")\n",
    "    description_s = soup.find(\"div\", class_= \"show-more-less-html__markup show-more-less-html__markup--clamp-after-5\") \n",
    "    contract_s = soup.find(\"span\", class_=\"description__job-criteria-text description__job-criteria-text--criteria\")\n",
    "    location_s = soup.find(\"span\", class_=\"topcard__flavor topcard__flavor--bullet\")\n",
    "    try:\n",
    "        salary_s = soup.find(\"div\", class_=\"salary compensation__salary\")\n",
    "    except:\n",
    "        pass\n",
    "    \n",
    "    try:\n",
    "        name = name_s.text.strip().replace(\"++\", \"+\")\n",
    "    except:\n",
    "        name = name_s.get_text.strip().replace(\"++\", \"+\")\n",
    "    company_name = com_name_s.text.strip()\n",
    "    try:\n",
    "        ago = time_s.get_text().strip()\n",
    "    except:\n",
    "        time_s = soup.find(\"span\", class_=\"posted-time-ago__text posted-time-ago__text--new topcard__flavor--metadata\")\n",
    "        ago = time_s.get_text().strip()\n",
    "    description = description_s.text.strip()\n",
    "    date = date.today()\n",
    "    contract = contract_s.text.strip()\n",
    "    location = location_s.text.strip()\n",
    "    try:\n",
    "        salary = salary_s.text.strip()\n",
    "    except:\n",
    "        pass\n",
    "      \n",
    "    d[\"name\"].append(name)\n",
    "    d[\"company_name\"].append(company_name)\n",
    "    d[\"ago\"].append(ago)\n",
    "    d[\"contract\"].append(contract)\n",
    "    d[\"description\"].append(description)\n",
    "    d[\"date\"].append(date)\n",
    "    d[\"link\"].append(links[n])\n",
    "    d[\"location\"].append(location)\n",
    "    try:\n",
    "        print(salary)\n",
    "    except:\n",
    "        pass\n",
    "    \n",
    "    \n",
    "    sleep(2)\n",
    "    \n",
    "    #print(name)\n",
    "    #print(ago)\n",
    "    #print(n, links[n])\n",
    "print(f\"Done: {n + 1} / {size_of_list}\")"
   ]
  },
  {
   "cell_type": "markdown",
   "id": "c77ac2d0-364a-4799-85c0-ce0cd6fe6587",
   "metadata": {},
   "source": [
    "## Creation of CSV file out of web scraping: "
   ]
  },
  {
   "cell_type": "code",
   "execution_count": null,
   "id": "47e67001-11b2-4b73-80cd-eae0e1709fe9",
   "metadata": {},
   "outputs": [],
   "source": [
    "data = pd.DataFrame.from_dict(data=d, orient='index')\n",
    "data = data.transpose()\n",
    "\n",
    "data.to_csv(f\"RAW_DATA/scraped_data_{date}.csv\", index=False)"
   ]
  },
  {
   "cell_type": "markdown",
   "id": "c72e0bdf-5eff-400e-9ff6-05f50f15d7a9",
   "metadata": {},
   "source": [
    "## Creation of summary CSV file out of all CSV files"
   ]
  },
  {
   "cell_type": "code",
   "execution_count": null,
   "id": "4532f098-b622-41da-a1b6-7d068c65e252",
   "metadata": {},
   "outputs": [],
   "source": [
    "# get data file names\n",
    "path =r\"C:\\Users\\srnam\\PycharmProjects\\data_analyz_pandas\\LinkedIn_job_analysis\\RAW_DATA\"\n",
    "filenames = glob.glob(path + \"/*.csv\")\n",
    "\n",
    "dfs = []\n",
    "for filename in filenames:\n",
    "    dfs.append(pd.read_csv(filename))\n",
    "\n",
    "# Concatenate all data into one DataFrame\n",
    "big_frame = pd.concat(dfs, ignore_index=True)\n",
    "big_frame.to_csv(\"DATA/summary_data.csv\", index=False)\n",
    "big_frame.shape"
   ]
  },
  {
   "cell_type": "code",
   "execution_count": null,
   "id": "b2e2fe51-bf04-4309-a16c-2131a97af306",
   "metadata": {},
   "outputs": [],
   "source": []
  },
  {
   "cell_type": "code",
   "execution_count": null,
   "id": "0b1b88fc-2b19-4bbc-bad8-4a2639edbdf9",
   "metadata": {},
   "outputs": [],
   "source": []
  },
  {
   "cell_type": "code",
   "execution_count": null,
   "id": "479f3545-078f-48dd-b65a-2bb08ecbfaec",
   "metadata": {},
   "outputs": [],
   "source": []
  },
  {
   "cell_type": "code",
   "execution_count": null,
   "id": "caf78140-0967-4d7b-b697-d6a1d31ab84e",
   "metadata": {},
   "outputs": [],
   "source": [
    "s = soup.find()\n",
    "print(s)"
   ]
  },
  {
   "cell_type": "code",
   "execution_count": null,
   "id": "193cc220-a626-4f17-bfe5-ac0837c89bc9",
   "metadata": {},
   "outputs": [],
   "source": []
  },
  {
   "cell_type": "code",
   "execution_count": null,
   "id": "36ae4146-fda4-47ef-8cc9-22cff759eb2a",
   "metadata": {},
   "outputs": [],
   "source": []
  },
  {
   "cell_type": "code",
   "execution_count": null,
   "id": "c3040133-e04c-4abe-a44f-d02051c37c32",
   "metadata": {},
   "outputs": [],
   "source": []
  }
 ],
 "metadata": {
  "kernelspec": {
   "display_name": "Python 3 (ipykernel)",
   "language": "python",
   "name": "python3"
  },
  "language_info": {
   "codemirror_mode": {
    "name": "ipython",
    "version": 3
   },
   "file_extension": ".py",
   "mimetype": "text/x-python",
   "name": "python",
   "nbconvert_exporter": "python",
   "pygments_lexer": "ipython3",
   "version": "3.9.13"
  }
 },
 "nbformat": 4,
 "nbformat_minor": 5
}
